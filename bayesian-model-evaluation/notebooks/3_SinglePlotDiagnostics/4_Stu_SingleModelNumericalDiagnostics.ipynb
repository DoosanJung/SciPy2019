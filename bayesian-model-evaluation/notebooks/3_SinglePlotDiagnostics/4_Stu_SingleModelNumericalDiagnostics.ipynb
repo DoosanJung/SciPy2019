{
 "cells": [
  {
   "cell_type": "markdown",
   "metadata": {},
   "source": [
    "# Section 3.4: Single Model Numerical Diagnostics Activities"
   ]
  },
  {
   "cell_type": "code",
   "execution_count": null,
   "metadata": {},
   "outputs": [],
   "source": [
    "import os\n",
    "import arviz as az\n",
    "\n",
    "# Change working directory\n",
    "if os.path.split(os.getcwd())[-1] != \"notebooks\":\n",
    "    os.chdir(os.path.join(\"..\"))\n",
    "\n",
    "NETCDF_DIR = \"inference_data\""
   ]
  },
  {
   "cell_type": "code",
   "execution_count": null,
   "metadata": {},
   "outputs": [],
   "source": [
    "az.style.use('arviz-white')"
   ]
  },
  {
   "cell_type": "markdown",
   "metadata": {},
   "source": [
    "## Activity: Calculate $\\hat{R}$ and $S_{\\text{eff}}$ for our previous analysis\n",
    "Load each dataset and use ArviZ to calculate the plots for each of the datasets. For Effective Sample Size compare to the count of simulation samples to see how the two compare. Refer back to the traceplots and autocorrelation plots to see how the numerical diagnostics and visual diagnostics correlate.\n",
    "\n",
    "We've copied one of the examples here for reference."
   ]
  },
  {
   "cell_type": "markdown",
   "metadata": {},
   "source": [
    "### Example 1: data_bad_init.nc Numerical Diagnostics "
   ]
  },
  {
   "cell_type": "code",
   "execution_count": null,
   "metadata": {},
   "outputs": [],
   "source": [
    "data_bad_init = az.from_netcdf(os.path.join(NETCDF_DIR, \"data_bad_init.nc\"))"
   ]
  },
  {
   "cell_type": "code",
   "execution_count": null,
   "metadata": {},
   "outputs": [],
   "source": [
    "# Rhat\n"
   ]
  },
  {
   "cell_type": "code",
   "execution_count": null,
   "metadata": {},
   "outputs": [],
   "source": [
    "# Effective Sample Size\n"
   ]
  },
  {
   "cell_type": "code",
   "execution_count": null,
   "metadata": {},
   "outputs": [],
   "source": [
    "# Compare Effective Sample Size to number of samples/draws across all chains\n",
    "coords = data_bad_init.posterior.coords\n",
    "num_computational_draws = coords[\"draw\"].shape[0] * coords[\"chain\"].shape[0]\n",
    "num_computational_draws "
   ]
  },
  {
   "cell_type": "markdown",
   "metadata": {},
   "source": [
    "### Exercise 2: data_good_init.nc Numerical Diagnostics"
   ]
  },
  {
   "cell_type": "code",
   "execution_count": null,
   "metadata": {},
   "outputs": [],
   "source": [
    "# Rhat\n",
    "\n",
    "data_good_init = az.from_netcdf(os.path.join(NETCDF_DIR, \"data_good_init.nc\"))\n",
    "az.rhat(data_good_init)"
   ]
  },
  {
   "cell_type": "code",
   "execution_count": null,
   "metadata": {},
   "outputs": [],
   "source": [
    "# Effective Sample Size\n"
   ]
  },
  {
   "cell_type": "code",
   "execution_count": null,
   "metadata": {},
   "outputs": [],
   "source": [
    "# Compare Effective Sample Size to number of samples/draws across all chains\n",
    "\n",
    "coords = data_good_init.posterior.coords\n",
    "num_computational_draws = coords[\"draw\"].shape[0] * coords[\"chain\"].shape[0]\n",
    "num_computational_draws "
   ]
  },
  {
   "cell_type": "markdown",
   "metadata": {},
   "source": [
    "### Exercise 3: data_good_init_long_chain.nc Numerical Diagnostics"
   ]
  },
  {
   "cell_type": "code",
   "execution_count": null,
   "metadata": {},
   "outputs": [],
   "source": [
    "# Rhat\n",
    "\n",
    "data_good_init_long_chain = az.from_netcdf(os.path.join(NETCDF_DIR, \"data_good_init_long_chain.nc\"))\n"
   ]
  },
  {
   "cell_type": "code",
   "execution_count": null,
   "metadata": {},
   "outputs": [],
   "source": [
    "# Effective Sample Size\n",
    "\n"
   ]
  },
  {
   "cell_type": "code",
   "execution_count": null,
   "metadata": {},
   "outputs": [],
   "source": [
    "# Compare Effective Sample Size to number of samples/draws across all chains\n",
    "\n",
    "coords = data_good_init_long_chain.posterior.coords\n",
    "num_computational_draws = coords[\"draw\"].shape[0] * coords[\"chain\"].shape[0]\n",
    "num_computational_draws "
   ]
  },
  {
   "cell_type": "markdown",
   "metadata": {},
   "source": [
    "### Exercise 4: data_tuned_mh.nc Numerical Diagnostics"
   ]
  },
  {
   "cell_type": "code",
   "execution_count": null,
   "metadata": {},
   "outputs": [],
   "source": [
    "data_tuned_mh = az.from_netcdf(os.path.join(NETCDF_DIR, \"data_tuned_mh.nc\"))\n",
    "# Rhat\n"
   ]
  },
  {
   "cell_type": "code",
   "execution_count": null,
   "metadata": {},
   "outputs": [],
   "source": [
    "# Effective Sample Size\n",
    "\n"
   ]
  },
  {
   "cell_type": "code",
   "execution_count": null,
   "metadata": {},
   "outputs": [],
   "source": [
    "coords = data_tuned_mh.posterior.coords\n",
    "num_computational_draws = coords[\"draw\"].shape[0] * coords[\"chain\"].shape[0]\n",
    "num_computational_draws "
   ]
  },
  {
   "cell_type": "markdown",
   "metadata": {},
   "source": [
    "### Exercise 5: data_hmc.nc Numerical Diagnostics"
   ]
  },
  {
   "cell_type": "code",
   "execution_count": null,
   "metadata": {},
   "outputs": [],
   "source": [
    "data_hmc = az.from_netcdf(os.path.join(NETCDF_DIR, \"data_hmc.nc\"))\n",
    "# Rhat\n"
   ]
  },
  {
   "cell_type": "code",
   "execution_count": null,
   "metadata": {},
   "outputs": [],
   "source": [
    "# Effective Sample Size\n"
   ]
  },
  {
   "cell_type": "code",
   "execution_count": null,
   "metadata": {},
   "outputs": [],
   "source": [
    "coords = data_hmc.posterior.coords\n",
    "num_computational_draws = coords[\"draw\"].shape[0] * coords[\"chain\"].shape[0]\n",
    "num_computational_draws "
   ]
  },
  {
   "cell_type": "markdown",
   "metadata": {},
   "source": [
    "### Exercise 6: Discussion about numerical diagnostics\n",
    "Turn to your partner and discuss the results of the numerical diagnostics. \n",
    "* Do the numerical diagnostics correlate with your knowledge of MCMC theory?\n",
    "* Do the diagnostics match your expectation to measuring convergence (mixing) and effective sample size?"
   ]
  }
 ],
 "metadata": {
  "kernelspec": {
   "display_name": "Python 3",
   "language": "python",
   "name": "python3"
  },
  "language_info": {
   "codemirror_mode": {
    "name": "ipython",
    "version": 3
   },
   "file_extension": ".py",
   "mimetype": "text/x-python",
   "name": "python",
   "nbconvert_exporter": "python",
   "pygments_lexer": "ipython3",
   "version": "3.6.8"
  }
 },
 "nbformat": 4,
 "nbformat_minor": 2
}
