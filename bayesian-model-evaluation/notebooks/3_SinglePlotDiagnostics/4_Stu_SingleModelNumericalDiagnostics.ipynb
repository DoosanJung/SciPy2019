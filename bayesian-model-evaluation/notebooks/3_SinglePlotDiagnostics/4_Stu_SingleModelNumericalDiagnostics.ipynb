{
 "cells": [
  {
   "cell_type": "markdown",
   "metadata": {},
   "source": [
    "# Section 3.4: Single Model Numerical Diagnostics Activities"
   ]
  },
  {
   "cell_type": "code",
   "execution_count": 1,
   "metadata": {},
   "outputs": [],
   "source": [
    "import os\n",
    "import arviz as az\n",
    "\n",
    "# Change working directory\n",
    "if os.path.split(os.getcwd())[-1] != \"notebooks\":\n",
    "    os.chdir(os.path.join(\"..\"))\n",
    "\n",
    "NETCDF_DIR = \"inference_data\""
   ]
  },
  {
   "cell_type": "code",
   "execution_count": 2,
   "metadata": {},
   "outputs": [],
   "source": [
    "az.style.use('arviz-white')"
   ]
  },
  {
   "cell_type": "markdown",
   "metadata": {},
   "source": [
    "## Activity: Calculate $\\hat{R}$ and $S_{\\text{eff}}$ for our previous analysis\n",
    "Load each dataset and use ArviZ to calculate the plots for each of the datasets. For Effective Sample Size compare to the count of simulation samples to see how the two compare. Refer back to the traceplots and autocorrelation plots to see how the numerical diagnostics and visual diagnostics correlate.\n",
    "\n",
    "We've copied one of the examples here for reference."
   ]
  },
  {
   "cell_type": "markdown",
   "metadata": {},
   "source": [
    "### Example 1: data_bad_init.nc Numerical Diagnostics "
   ]
  },
  {
   "cell_type": "code",
   "execution_count": 3,
   "metadata": {},
   "outputs": [],
   "source": [
    "data_bad_init = az.from_netcdf(os.path.join(NETCDF_DIR, \"data_bad_init.nc\"))"
   ]
  },
  {
   "cell_type": "code",
   "execution_count": 4,
   "metadata": {},
   "outputs": [
    {
     "data": {
      "text/plain": [
       "<xarray.Dataset>\n",
       "Dimensions:  ()\n",
       "Data variables:\n",
       "    θ        float64 3.061"
      ]
     },
     "execution_count": 4,
     "metadata": {},
     "output_type": "execute_result"
    }
   ],
   "source": [
    "# Rhat\n",
    "az.rhat(data_bad_init)\n",
    "# 3.061 > 1 => variances between the multiple chains don't really match (not converged)"
   ]
  },
  {
   "cell_type": "code",
   "execution_count": 5,
   "metadata": {},
   "outputs": [
    {
     "data": {
      "text/plain": [
       "<xarray.Dataset>\n",
       "Dimensions:  ()\n",
       "Data variables:\n",
       "    θ        float64 2.335"
      ]
     },
     "execution_count": 5,
     "metadata": {},
     "output_type": "execute_result"
    }
   ],
   "source": [
    "# Effective Sample Size\n",
    "az.effective_sample_size(data_bad_init)"
   ]
  },
  {
   "cell_type": "code",
   "execution_count": 12,
   "metadata": {},
   "outputs": [
    {
     "name": "stdout",
     "output_type": "stream",
     "text": [
      "the number of draws: 200\n",
      "the number of chains: 2\n"
     ]
    },
    {
     "data": {
      "text/plain": [
       "400"
      ]
     },
     "execution_count": 12,
     "metadata": {},
     "output_type": "execute_result"
    }
   ],
   "source": [
    "# Compare Effective Sample Size to number of samples/draws across all chains\n",
    "coords = data_bad_init.posterior.coords\n",
    "print(f\"the number of draws: {coords['draw'].shape[0]}\")\n",
    "print(f\"the number of chains: {coords['chain'].shape[0]}\")\n",
    "num_computational_draws = coords[\"draw\"].shape[0] * coords[\"chain\"].shape[0]\n",
    "num_computational_draws "
   ]
  },
  {
   "cell_type": "markdown",
   "metadata": {},
   "source": [
    "out of 400, only got around 2 => a pretty failed inference run"
   ]
  },
  {
   "cell_type": "markdown",
   "metadata": {},
   "source": [
    "### Exercise 2: data_good_init.nc Numerical Diagnostics"
   ]
  },
  {
   "cell_type": "markdown",
   "metadata": {},
   "source": [
    "with a better initialization"
   ]
  },
  {
   "cell_type": "code",
   "execution_count": 7,
   "metadata": {},
   "outputs": [
    {
     "data": {
      "text/plain": [
       "<xarray.Dataset>\n",
       "Dimensions:  ()\n",
       "Data variables:\n",
       "    θ        float64 1.235"
      ]
     },
     "execution_count": 7,
     "metadata": {},
     "output_type": "execute_result"
    }
   ],
   "source": [
    "# Rhat\n",
    "data_good_init = az.from_netcdf(os.path.join(NETCDF_DIR, \"data_good_init.nc\"))\n",
    "az.rhat(data_good_init)\n",
    "# Rhat closed to 1. better mixing. verify with the traceplot & auto plot"
   ]
  },
  {
   "cell_type": "markdown",
   "metadata": {},
   "source": [
    "![data_good_init_traceplot.png](../../img/data_good_init_traceplot.png)"
   ]
  },
  {
   "cell_type": "code",
   "execution_count": 8,
   "metadata": {},
   "outputs": [
    {
     "data": {
      "text/plain": [
       "<xarray.Dataset>\n",
       "Dimensions:  ()\n",
       "Data variables:\n",
       "    θ        float64 6.499"
      ]
     },
     "execution_count": 8,
     "metadata": {},
     "output_type": "execute_result"
    }
   ],
   "source": [
    "# Effective Sample Size\n",
    "az.effective_sample_size(data_good_init)"
   ]
  },
  {
   "cell_type": "code",
   "execution_count": 9,
   "metadata": {},
   "outputs": [
    {
     "data": {
      "text/plain": [
       "400"
      ]
     },
     "execution_count": 9,
     "metadata": {},
     "output_type": "execute_result"
    }
   ],
   "source": [
    "# Compare Effective Sample Size to number of samples/draws across all chains\n",
    "coords = data_good_init.posterior.coords\n",
    "num_computational_draws = coords[\"draw\"].shape[0] * coords[\"chain\"].shape[0]\n",
    "num_computational_draws "
   ]
  },
  {
   "cell_type": "markdown",
   "metadata": {},
   "source": [
    "Out of 400, around 6. Not good enough. Even though the chain seems mixing well, in between the stepsize can be problematic: e.g. too large."
   ]
  },
  {
   "cell_type": "markdown",
   "metadata": {},
   "source": [
    "### Exercise 3: data_good_init_long_chain.nc Numerical Diagnostics"
   ]
  },
  {
   "cell_type": "code",
   "execution_count": 13,
   "metadata": {},
   "outputs": [
    {
     "data": {
      "text/plain": [
       "<xarray.Dataset>\n",
       "Dimensions:  ()\n",
       "Data variables:\n",
       "    θ        float64 1.002"
      ]
     },
     "execution_count": 13,
     "metadata": {},
     "output_type": "execute_result"
    }
   ],
   "source": [
    "# Rhat\n",
    "\n",
    "data_good_init_long_chain = az.from_netcdf(os.path.join(NETCDF_DIR, \"data_good_init_long_chain.nc\"))\n",
    "az.rhat(data_good_init_long_chain)\n",
    "# R ~ 1. mixed well."
   ]
  },
  {
   "cell_type": "code",
   "execution_count": 15,
   "metadata": {},
   "outputs": [
    {
     "data": {
      "text/plain": [
       "<xarray.Dataset>\n",
       "Dimensions:  ()\n",
       "Data variables:\n",
       "    θ        float64 2.251e+03"
      ]
     },
     "execution_count": 15,
     "metadata": {},
     "output_type": "execute_result"
    }
   ],
   "source": [
    "# Effective Sample Size\n",
    "az.effective_sample_size(data_good_init_long_chain)"
   ]
  },
  {
   "cell_type": "code",
   "execution_count": 16,
   "metadata": {},
   "outputs": [
    {
     "data": {
      "text/plain": [
       "40000"
      ]
     },
     "execution_count": 16,
     "metadata": {},
     "output_type": "execute_result"
    }
   ],
   "source": [
    "# Compare Effective Sample Size to number of samples/draws across all chains\n",
    "coords = data_good_init_long_chain.posterior.coords\n",
    "num_computational_draws = coords[\"draw\"].shape[0] * coords[\"chain\"].shape[0]\n",
    "num_computational_draws "
   ]
  },
  {
   "cell_type": "markdown",
   "metadata": {},
   "source": [
    "out of 40000, we got around 2250 good samples. Took a lot of time"
   ]
  },
  {
   "cell_type": "markdown",
   "metadata": {},
   "source": [
    "### Exercise 4: data_tuned_mh.nc Numerical Diagnostics"
   ]
  },
  {
   "cell_type": "markdown",
   "metadata": {},
   "source": [
    "from PyMC3"
   ]
  },
  {
   "cell_type": "code",
   "execution_count": 18,
   "metadata": {},
   "outputs": [
    {
     "data": {
      "text/plain": [
       "<xarray.Dataset>\n",
       "Dimensions:  ()\n",
       "Data variables:\n",
       "    θ        float64 1.002"
      ]
     },
     "execution_count": 18,
     "metadata": {},
     "output_type": "execute_result"
    }
   ],
   "source": [
    "data_tuned_mh = az.from_netcdf(os.path.join(NETCDF_DIR, \"data_tuned_mh.nc\"))\n",
    "# Rhat\n",
    "az.rhat(data_tuned_mh)"
   ]
  },
  {
   "cell_type": "code",
   "execution_count": 19,
   "metadata": {},
   "outputs": [
    {
     "data": {
      "text/plain": [
       "<xarray.Dataset>\n",
       "Dimensions:  ()\n",
       "Data variables:\n",
       "    θ        float64 5.025e+03"
      ]
     },
     "execution_count": 19,
     "metadata": {},
     "output_type": "execute_result"
    }
   ],
   "source": [
    "# Effective Sample Size\n",
    "az.effective_sample_size(data_tuned_mh)"
   ]
  },
  {
   "cell_type": "code",
   "execution_count": 20,
   "metadata": {},
   "outputs": [
    {
     "data": {
      "text/plain": [
       "40000"
      ]
     },
     "execution_count": 20,
     "metadata": {},
     "output_type": "execute_result"
    }
   ],
   "source": [
    "coords = data_tuned_mh.posterior.coords\n",
    "num_computational_draws = coords[\"draw\"].shape[0] * coords[\"chain\"].shape[0]\n",
    "num_computational_draws "
   ]
  },
  {
   "cell_type": "markdown",
   "metadata": {},
   "source": [
    "almost double the number of good samples (around 5000), but still in around 10~20%"
   ]
  },
  {
   "cell_type": "markdown",
   "metadata": {},
   "source": [
    "### Exercise 5: data_hmc.nc Numerical Diagnostics"
   ]
  },
  {
   "cell_type": "markdown",
   "metadata": {},
   "source": [
    "A gradient based algorithm. A go-to algorithm these days. NUTS sampler."
   ]
  },
  {
   "cell_type": "code",
   "execution_count": 21,
   "metadata": {},
   "outputs": [
    {
     "data": {
      "text/plain": [
       "<xarray.Dataset>\n",
       "Dimensions:  ()\n",
       "Data variables:\n",
       "    θ        float64 1.003"
      ]
     },
     "execution_count": 21,
     "metadata": {},
     "output_type": "execute_result"
    }
   ],
   "source": [
    "data_hmc = az.from_netcdf(os.path.join(NETCDF_DIR, \"data_hmc.nc\"))\n",
    "# Rhat\n",
    "az.rhat(data_hmc)"
   ]
  },
  {
   "cell_type": "code",
   "execution_count": 22,
   "metadata": {},
   "outputs": [
    {
     "data": {
      "text/plain": [
       "<xarray.Dataset>\n",
       "Dimensions:  ()\n",
       "Data variables:\n",
       "    θ        float64 756.8"
      ]
     },
     "execution_count": 22,
     "metadata": {},
     "output_type": "execute_result"
    }
   ],
   "source": [
    "# Effective Sample Size\n",
    "az.effective_sample_size(data_hmc)"
   ]
  },
  {
   "cell_type": "code",
   "execution_count": 23,
   "metadata": {},
   "outputs": [
    {
     "data": {
      "text/plain": [
       "2000"
      ]
     },
     "execution_count": 23,
     "metadata": {},
     "output_type": "execute_result"
    }
   ],
   "source": [
    "coords = data_hmc.posterior.coords\n",
    "num_computational_draws = coords[\"draw\"].shape[0] * coords[\"chain\"].shape[0]\n",
    "num_computational_draws "
   ]
  },
  {
   "cell_type": "markdown",
   "metadata": {},
   "source": [
    "out of 2000, we got 750 good samples (over 35%)"
   ]
  },
  {
   "cell_type": "markdown",
   "metadata": {},
   "source": [
    "### Exercise 6: Discussion about numerical diagnostics\n",
    "Turn to your partner and discuss the results of the numerical diagnostics. \n",
    "* Do the numerical diagnostics correlate with your knowledge of MCMC theory?\n",
    "* Do the diagnostics match your expectation to measuring convergence (mixing) and effective sample size?"
   ]
  }
 ],
 "metadata": {
  "kernelspec": {
   "display_name": "Python 3",
   "language": "python",
   "name": "python3"
  },
  "language_info": {
   "codemirror_mode": {
    "name": "ipython",
    "version": 3
   },
   "file_extension": ".py",
   "mimetype": "text/x-python",
   "name": "python",
   "nbconvert_exporter": "python",
   "pygments_lexer": "ipython3",
   "version": "3.6.8"
  }
 },
 "nbformat": 4,
 "nbformat_minor": 2
}
