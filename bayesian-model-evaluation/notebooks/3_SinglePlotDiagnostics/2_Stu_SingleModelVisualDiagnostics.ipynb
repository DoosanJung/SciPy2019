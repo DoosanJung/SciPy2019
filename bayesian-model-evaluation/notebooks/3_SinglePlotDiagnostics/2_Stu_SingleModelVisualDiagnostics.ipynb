{
 "cells": [
  {
   "cell_type": "markdown",
   "metadata": {},
   "source": [
    "# Section 3.2 Single Model Visual Diagnostic Activities"
   ]
  },
  {
   "cell_type": "code",
   "execution_count": null,
   "metadata": {},
   "outputs": [],
   "source": [
    "import os\n",
    "import arviz as az\n",
    "\n",
    "# Change working directory\n",
    "if os.path.split(os.getcwd())[-1] != \"notebooks\":\n",
    "    os.chdir(os.path.join(\"..\"))\n",
    "\n",
    "NETCDF_DIR = \"inference_data\""
   ]
  },
  {
   "cell_type": "code",
   "execution_count": null,
   "metadata": {},
   "outputs": [],
   "source": [
    "az.style.use('arviz-white')"
   ]
  },
  {
   "cell_type": "markdown",
   "metadata": {},
   "source": [
    "## Activity: Plot Autocorrelation for our previous analysis\n",
    "Load and create Autocorrelation plots for each of the datasets. Discuss with your partner whether the results make sense or not. If needed compare to the traceplot to see how the two diagnostics compare"
   ]
  },
  {
   "cell_type": "markdown",
   "metadata": {},
   "source": [
    "### Exercise 1: data_bad_init.nc autocorrelation diagram"
   ]
  },
  {
   "cell_type": "code",
   "execution_count": null,
   "metadata": {},
   "outputs": [],
   "source": [
    "bad_init_nc = os.path.join(NETCDF_DIR, \"data_bad_init.nc\")\n",
    "# Create autocorrelation diagram"
   ]
  },
  {
   "cell_type": "markdown",
   "metadata": {},
   "source": [
    "### Exercise 2: data_good_init.nc autocorrelation diagram"
   ]
  },
  {
   "cell_type": "code",
   "execution_count": null,
   "metadata": {},
   "outputs": [],
   "source": [
    "good_init_path = os.path.join(NETCDF_DIR, \"data_good_init.nc\")\n",
    "# Create autocorrelation diagram"
   ]
  },
  {
   "cell_type": "markdown",
   "metadata": {},
   "source": [
    "### Exercise 3: data_good_init_long_chain.nc autocorrelation diagram"
   ]
  },
  {
   "cell_type": "code",
   "execution_count": null,
   "metadata": {},
   "outputs": [],
   "source": [
    "good_init_long_chain = os.path.join(NETCDF_DIR, \"data_good_init_long_chain.nc\")\n",
    "# Create autocorrelation diagram"
   ]
  },
  {
   "cell_type": "markdown",
   "metadata": {},
   "source": [
    "### Exercise 4: data_tuned_mh.nc autocorrelation diagram"
   ]
  },
  {
   "cell_type": "code",
   "execution_count": null,
   "metadata": {},
   "outputs": [],
   "source": [
    "tuned_mh = os.path.join(NETCDF_DIR, \"data_tuned_mh.nc\"\n",
    "# Create autocorrelation diagram"
   ]
  },
  {
   "cell_type": "markdown",
   "metadata": {},
   "source": [
    "### Exercise 5: data_hmc.nc autocorrelation diagram"
   ]
  },
  {
   "cell_type": "code",
   "execution_count": null,
   "metadata": {},
   "outputs": [],
   "source": [
    "hmc_path = os.path.join(NETCDF_DIR, \"data_hmc.nc\")\n",
    "# Create autocorrelation diagram"
   ]
  },
  {
   "cell_type": "markdown",
   "metadata": {},
   "source": [
    "### Exercise 6: Discussion about visual diagnostics\n",
    "\n",
    "Turn to your partner and discuss the results of the visual diagnostics.\n",
    "\n",
    "* Do the visual diagnostics correlate with your knowledge of MCMC theory?\n",
    "* What features of the trace plots and autocorrelation plots indicate a relative good MCMC run? Which ones indicate a relatively bad MCMC run?\n",
    "* \"Thinning\" is the process of discarding all but a certain number of draws, for example with `data_hmc.posterior.sel(draw=slice(0, 5000, 10))`. How does this effect autocorrelation?"
   ]
  }
 ],
 "metadata": {
  "kernelspec": {
   "display_name": "Python 3",
   "language": "python",
   "name": "python3"
  },
  "language_info": {
   "codemirror_mode": {
    "name": "ipython",
    "version": 3
   },
   "file_extension": ".py",
   "mimetype": "text/x-python",
   "name": "python",
   "nbconvert_exporter": "python",
   "pygments_lexer": "ipython3",
   "version": "3.6.8"
  }
 },
 "nbformat": 4,
 "nbformat_minor": 2
}
