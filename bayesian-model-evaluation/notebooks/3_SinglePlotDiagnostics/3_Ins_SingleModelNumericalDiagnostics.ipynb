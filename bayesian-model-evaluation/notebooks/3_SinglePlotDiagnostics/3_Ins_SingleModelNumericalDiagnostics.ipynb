{
 "cells": [
  {
   "cell_type": "markdown",
   "metadata": {},
   "source": [
    "# Section 3.3 Single Model Numerical Diagnostics"
   ]
  },
  {
   "cell_type": "code",
   "execution_count": 1,
   "metadata": {},
   "outputs": [],
   "source": [
    "import os\n",
    "\n",
    "import arviz as az\n",
    "\n",
    "# Change working directory\n",
    "if os.path.split(os.getcwd())[-1] != \"notebooks\":\n",
    "    os.chdir(os.path.join(\"..\"))\n",
    "\n",
    "NETCDF_DIR = \"inference_data\""
   ]
  },
  {
   "cell_type": "code",
   "execution_count": 2,
   "metadata": {},
   "outputs": [],
   "source": [
    "az.style.use('arviz-white')"
   ]
  },
  {
   "cell_type": "markdown",
   "metadata": {},
   "source": [
    "## What happened to hard numbers?\n",
    "\n",
    "One criticism of visual plots their interpretation is subjective. When running one model its relatively simple to visually inspect the results, but if testing out various models looking over many traceplots and autocorrelation diagrams becomes statistician time intensive. (We'll talk more about multiple models in Section 5). As far as it is possible to automate model checking, we would like to.\n",
    "\n",
    "\n",
    "## $\\hat{R}$ and Effective Sample Size\n",
    "\n",
    "Recall our two pertinent questions MCMC practioners should ask when making posterior estimates:\n",
    "\n",
    "* Did the chains mix well?\n",
    "* Did we get enough samples?\n",
    "\n",
    "\n",
    "These questions are paraphrased from the paper published in March 2019: **Rank-normalization, folding, and localization: An improved $\\hat{R}$ for assessing convergence of MCMC** by [Vehtari et.al.](https://arxiv.org/abs/1903.08008), and thankfully the paper provides two numbers -- $\\hat{R}$, and effective sample size (ESS) -- as tools to help answer these questions.\n",
    "\n",
    "### Warning: Active Research Zone\n",
    "\n",
    "Wow! A paper from 2019! Bayesian statistics is an academically active field and numerous versions of $\\hat{R}$ and effective sample size calculations have been proposed over the years. the first of which was published in 1992. In this tutorial we will be covering the calucation from the 2019 paper (linked again [here]((https://arxiv.org/abs/1903.08008)))\n",
    "Just be mindful that when looking at older papers or results the diagnostics will answer the same question, but the exact calculation may differ.\n",
    "\n",
    "Some prior papers are linked here for reference.\n",
    "\n",
    "[Gelman and Rubin (1992)](https://projecteuclid.org/euclid.ss/1177011136)  \n",
    "[Brooks and Gelman (1998)](http://www2.stat.duke.edu/~scs/Courses/Stat376/Papers/ConvergeDiagnostics/BrooksGelman.pdf)  \n",
    "[Gelman et al. Bayesian Data Analysis (3 ed, 2014)](http://www.stat.columbia.edu/~gelman/book/)\n",
    "\n"
   ]
  },
  {
   "cell_type": "markdown",
   "metadata": {},
   "source": [
    "### $\\hat{R}$ (say \"R hat\")\n",
    "The first question we'll try and answer is if the chains have mixed well. The summarized formula is\n",
    "\n",
    "$$ \\Large \\hat{R} = \\sqrt{\\frac{\\hat{\\text{var}}^{+}(\\theta \\mid y)}{W}}$$\n",
    "\n",
    "While the details of the calculation can be found in the paper, it's using the *between chain variance* with *in chain variance* to calculate $\\hat{R}$. The idea is that if all the chains have converged, the variance should be similar across all chains, and the pooled sample of all chains.\n",
    "\n",
    "### Effective sample size (also known as ESS, also known as $S_{eff}$)\n",
    "\n",
    "As the name suggests effective sample size helps answer the question \"Did we get enough samples?\" The summarized formula is  \n",
    "\n",
    "$$ \\large S_{\\text{eff}} = \\frac{NM}{\\hat{\\tau}} $$\n",
    "\n",
    "Where N is computation draws, M is the number of chains and $\\hat{\\tau}$ is a number derived from the chain autocorrelations. The idea here is that in highly autocorrelated chains, while the computer *is* drawing samples they're not effective because they're not doing much to help estimate the posterior. \n",
    "\n",
    "Let's walk through an example"
   ]
  },
  {
   "cell_type": "markdown",
   "metadata": {},
   "source": [
    "## Reliving the horror. Naive Metropolis Hastings with Bad Initialization\n",
    "In Section 3.1 we performed an Inference Run with nightmareish results. Let's load the data again here and plot the visual diagnostics once again."
   ]
  },
  {
   "cell_type": "code",
   "execution_count": 3,
   "metadata": {},
   "outputs": [
    {
     "data": {
      "text/plain": [
       "array([[<matplotlib.axes._subplots.AxesSubplot object at 0x7effaf8cdc18>,\n",
       "        <matplotlib.axes._subplots.AxesSubplot object at 0x7effca439cc0>]],\n",
       "      dtype=object)"
      ]
     },
     "execution_count": 3,
     "metadata": {},
     "output_type": "execute_result"
    },
    {
     "data": {
      "image/png": "[encoded data removed]",
      "text/plain": [
       "<Figure size 1200x200 with 2 Axes>"
      ]
     },
     "metadata": {},
     "output_type": "display_data"
    }
   ],
   "source": [
    "data_bad_init = az.from_netcdf(os.path.join(NETCDF_DIR, \"data_bad_init.nc\"))\n",
    "\n",
    "az.plot_trace(data_bad_init)"
   ]
  },
  {
   "cell_type": "markdown",
   "metadata": {},
   "source": [
    "Looking again at the trace plots we can \"see\" that the results look bad, but like true statisticians let's use our numerical tools to quantify the results."
   ]
  },
  {
   "cell_type": "code",
   "execution_count": 4,
   "metadata": {},
   "outputs": [
    {
     "data": {
      "text/plain": [
       "<xarray.Dataset>\n",
       "Dimensions:  ()\n",
       "Data variables:\n",
       "    θ        float64 3.061"
      ]
     },
     "execution_count": 4,
     "metadata": {},
     "output_type": "execute_result"
    }
   ],
   "source": [
    "az.rhat(data_bad_init)"
   ]
  },
  {
   "cell_type": "code",
   "execution_count": 5,
   "metadata": {},
   "outputs": [
    {
     "data": {
      "text/plain": [
       "<xarray.Dataset>\n",
       "Dimensions:  ()\n",
       "Data variables:\n",
       "    θ        float64 2.335"
      ]
     },
     "execution_count": 5,
     "metadata": {},
     "output_type": "execute_result"
    }
   ],
   "source": [
    "az.effective_sample_size(data_bad_init)"
   ]
  },
  {
   "cell_type": "markdown",
   "metadata": {},
   "source": [
    "According to the math $\\hat{R} = 6.95$ and $S_{\\text{eff}} = 2.33$, but this begs the question is this good or bad? Subjectively speaking these are bad. Generally speaking\n",
    "\n",
    "* We want $\\hat{R}$ to be to close to 1 as possible\n",
    "* We want ESS to be as close to the number of simulation draws as possible  \n",
    "\n",
    "$\\hat{R}$ is telling us that the variances are not very consistent and $S_{\\text{eff}}$ is telling us that the 400 draws (200 draws over 2 chains) we took were as useful as ~2 independent draws from the true distribution (for ESS this small, such an interpretation is necessarily silly).\n",
    "\n",
    "In Aki's paper the advice there is specific advice for these diagnostics\n",
    "\n",
    "* Run at least 4 chains\n",
    "* $\\hat{R}$ should be less than 1.01\n",
    "* ESS should be 400 \"before we expect $\\hat{R}$ to be useful\"\n",
    "\n",
    "In Notebook 3.4 we'll be using $\\hat{R}$ and $S_{\\text{eff}}$ to compare each inference run"
   ]
  }
 ],
 "metadata": {
  "kernelspec": {
   "display_name": "arviz3.6",
   "language": "python",
   "name": "arviz3_6"
  },
  "language_info": {
   "codemirror_mode": {
    "name": "ipython",
    "version": 3
   },
   "file_extension": ".py",
   "mimetype": "text/x-python",
   "name": "python",
   "nbconvert_exporter": "python",
   "pygments_lexer": "ipython3",
   "version": "3.6.7"
  }
 },
 "nbformat": 4,
 "nbformat_minor": 2
}
