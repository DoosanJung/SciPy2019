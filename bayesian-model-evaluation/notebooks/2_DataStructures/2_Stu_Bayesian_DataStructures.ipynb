{
 "cells": [
  {
   "cell_type": "markdown",
   "metadata": {},
   "source": [
    "# Section 2.2 Data Structure Activities"
   ]
  },
  {
   "cell_type": "code",
   "execution_count": 1,
   "metadata": {},
   "outputs": [],
   "source": [
    "import os\n",
    "import pymc3 as pm\n",
    "import arviz as az\n",
    "import pandas as pd\n",
    "import numpy as np\n",
    "\n",
    "if os.path.split(os.getcwd())[-1] != \"notebooks\":\n",
    "    os.chdir(os.path.join(\"..\"))\n",
    "    \n",
    "np.random.seed(0)"
   ]
  },
  {
   "cell_type": "code",
   "execution_count": 2,
   "metadata": {},
   "outputs": [],
   "source": [
    "az.style.use('arviz-white')"
   ]
  },
  {
   "cell_type": "markdown",
   "metadata": {},
   "source": [
    "## Reproducing the Planet Experiment\n",
    "More good news! Your astronomical discovery, from Section 1.2, has been published, but now people want to you to share your data and results. They also are asking for help getting seeing portions of your analysis runs to inspect in greater detail."
   ]
  },
  {
   "cell_type": "markdown",
   "metadata": {},
   "source": [
    "### Exercise 1 \n",
    "Your favorite PPL is PyMC3, but it turns out your peer reviewer likes Stan. In an alternate universe your favorite PPL is Stan, but now your peer reviewer is a PyMC3 gal. Here we introduce the *Law of researcher PPL choice*  \n",
    "\n",
    "$$P(\\text{Your friends uses another PPL} | \\text{You choice of PPL}) = 1$$\n",
    "\n",
    "\n",
    "**How can we use ArviZ, Xarray, and NetCDF to share results in a common way?**  \n",
    "\n",
    "Note: We encourage you to use whatever PPL you prefer. These docs may be helpful:\n",
    "\n",
    "https://arviz-devs.github.io/arviz/api.html#data"
   ]
  },
  {
   "cell_type": "markdown",
   "metadata": {},
   "source": [
    "#### Step 1: Define your model and generate results\n",
    "The first step you'll need to take is to define your model and perform an inference run in this notebook. Recall in mathematical notation our model was as follows\n",
    "\n",
    "$$\\theta = \\text{Proportion of water on the planet}$$\n",
    "\n",
    "$$ \n",
    "\\theta \\sim \\operatorname{Uniform}(0,1) \\\\\n",
    "p_{\\text{water}} \\sim \\operatorname{Binom}(\\theta, N)\n",
    "$$"
   ]
  },
  {
   "cell_type": "code",
   "execution_count": 3,
   "metadata": {},
   "outputs": [],
   "source": [
    "observations = [0, 0, 1, 0, 1]\n",
    "water_observations = sum(observations)\n",
    "total_observations = len(observations)"
   ]
  },
  {
   "cell_type": "code",
   "execution_count": 4,
   "metadata": {},
   "outputs": [
    {
     "name": "stderr",
     "output_type": "stream",
     "text": [
      "Auto-assigning NUTS sampler...\n",
      "Initializing NUTS using jitter+adapt_diag...\n",
      "Sequential sampling (2 chains in 1 job)\n",
      "NUTS: [p]\n",
      "100%|██████████| 5500/5500 [00:05<00:00, 1061.66it/s]\n",
      "100%|██████████| 5500/5500 [00:03<00:00, 1451.05it/s]\n"
     ]
    }
   ],
   "source": [
    "# Add your model here, and perform an inference run. \n",
    "# You can either copy the model from Section 1.2 or for a challenge define your own\n",
    "with pm.Model() as planet_model:\n",
    "    p_water = pm.Uniform(\"p\", 0 ,1)\n",
    "    w = pm.Binomial(\"w\", p=p_water, n=total_observations, observed=water_observations)\n",
    "    trace = pm.sample(5000, chains=2)"
   ]
  },
  {
   "cell_type": "markdown",
   "metadata": {},
   "source": [
    "#### Step 2: Convert model results from PPL to az.InferenceData"
   ]
  },
  {
   "cell_type": "code",
   "execution_count": 5,
   "metadata": {},
   "outputs": [],
   "source": [
    "# Hint: Use the az.from_ family of methods\n",
    "water_data = az.from_pymc3(trace=trace)"
   ]
  },
  {
   "cell_type": "markdown",
   "metadata": {},
   "source": [
    "#### Step 3: Inspect InferenceData to see what groups exist"
   ]
  },
  {
   "cell_type": "code",
   "execution_count": 6,
   "metadata": {},
   "outputs": [
    {
     "data": {
      "text/plain": [
       "Inference data with groups:\n",
       "\t> posterior\n",
       "\t> sample_stats\n",
       "\t> observed_data"
      ]
     },
     "execution_count": 6,
     "metadata": {},
     "output_type": "execute_result"
    }
   ],
   "source": [
    "# Inspect groups here\n",
    "water_data"
   ]
  },
  {
   "cell_type": "markdown",
   "metadata": {},
   "source": [
    "#### Step 4: Inspect Posterior group to verify variables count, chain count, and draw count"
   ]
  },
  {
   "cell_type": "code",
   "execution_count": 7,
   "metadata": {},
   "outputs": [
    {
     "data": {
      "text/plain": [
       "<xarray.Dataset>\n",
       "Dimensions:  (chain: 2, draw: 5000)\n",
       "Coordinates:\n",
       "  * chain    (chain) int64 0 1\n",
       "  * draw     (draw) int64 0 1 2 3 4 5 6 7 ... 4993 4994 4995 4996 4997 4998 4999\n",
       "Data variables:\n",
       "    p        (chain, draw) float64 0.2813 0.3035 0.1876 ... 0.5252 0.4642 0.4642\n",
       "Attributes:\n",
       "    created_at:                 2019-10-12T04:55:07.503254\n",
       "    inference_library:          pymc3\n",
       "    inference_library_version:  3.6"
      ]
     },
     "execution_count": 7,
     "metadata": {},
     "output_type": "execute_result"
    }
   ],
   "source": [
    "# Inspect Posterior here\n",
    "water_data.posterior"
   ]
  },
  {
   "cell_type": "code",
   "execution_count": 8,
   "metadata": {},
   "outputs": [
    {
     "data": {
      "text/plain": [
       "<xarray.Dataset>\n",
       "Dimensions:               (chain: 2, draw: 5000, log_likelihood_dim_0: 1)\n",
       "Coordinates:\n",
       "  * chain                 (chain) int64 0 1\n",
       "  * draw                  (draw) int64 0 1 2 3 4 5 ... 4995 4996 4997 4998 4999\n",
       "  * log_likelihood_dim_0  (log_likelihood_dim_0) int64 0\n",
       "Data variables:\n",
       "    lp                    (chain, draw) float64 -2.824 -2.721 ... -2.496 -2.496\n",
       "    tree_size             (chain, draw) float64 1.0 1.0 3.0 3.0 ... 1.0 3.0 1.0\n",
       "    max_energy_error      (chain, draw) float64 0.0315 -0.03656 ... -0.068 1.902\n",
       "    energy                (chain, draw) float64 2.911 2.868 ... 2.559 4.171\n",
       "    energy_error          (chain, draw) float64 0.0315 -0.03656 ... -0.068 0.0\n",
       "    step_size_bar         (chain, draw) float64 1.171 1.171 ... 1.284 1.284\n",
       "    tune                  (chain, draw) bool False False False ... False False\n",
       "    diverging             (chain, draw) bool False False False ... False False\n",
       "    mean_tree_accept      (chain, draw) float64 0.969 1.0 ... 0.9941 0.1493\n",
       "    depth                 (chain, draw) int64 1 1 2 2 2 2 2 1 ... 2 2 1 1 1 2 1\n",
       "    step_size             (chain, draw) float64 1.464 1.464 ... 0.7103 0.7103\n",
       "    log_likelihood        (chain, draw, log_likelihood_dim_0) float64 -1.225 ... -1.104\n",
       "Attributes:\n",
       "    created_at:                 2019-10-12T04:55:08.348222\n",
       "    inference_library:          pymc3\n",
       "    inference_library_version:  3.6"
      ]
     },
     "execution_count": 8,
     "metadata": {},
     "output_type": "execute_result"
    }
   ],
   "source": [
    "# Inspect sample_stats here\n",
    "water_data.sample_stats"
   ]
  },
  {
   "cell_type": "code",
   "execution_count": 9,
   "metadata": {},
   "outputs": [
    {
     "data": {
      "text/plain": [
       "<xarray.Dataset>\n",
       "Dimensions:  (w_dim_0: 1)\n",
       "Coordinates:\n",
       "  * w_dim_0  (w_dim_0) int64 0\n",
       "Data variables:\n",
       "    w        (w_dim_0) float64 2.0\n",
       "Attributes:\n",
       "    created_at:                 2019-10-12T04:55:08.355507\n",
       "    inference_library:          pymc3\n",
       "    inference_library_version:  3.6"
      ]
     },
     "execution_count": 9,
     "metadata": {},
     "output_type": "execute_result"
    }
   ],
   "source": [
    "# Inspect observed_data here\n",
    "water_data.observed_data"
   ]
  },
  {
   "cell_type": "markdown",
   "metadata": {},
   "source": [
    "#### Step 3: Save your model to disk"
   ]
  },
  {
   "cell_type": "code",
   "execution_count": 10,
   "metadata": {},
   "outputs": [
    {
     "data": {
      "text/plain": [
       "'WaterResults.nc'"
      ]
     },
     "execution_count": 10,
     "metadata": {},
     "output_type": "execute_result"
    }
   ],
   "source": [
    "# Save your results here\n",
    "water_data.to_netcdf(\"WaterResults.nc\")"
   ]
  },
  {
   "cell_type": "markdown",
   "metadata": {},
   "source": [
    "### Exercise 2\n",
    "You've been asked to peer review a study on radon levels in Minnesota basements. The dataset is available as part of ArviZ's remote datasets. You've been asked to do a couple things."
   ]
  },
  {
   "cell_type": "markdown",
   "metadata": {},
   "source": [
    "#### Step 1: Load the NetCDF file into python memory\n",
    "*Note*: In ArviZ there are preloaded datasets. Radon is one of those. If you do not supply a dataset name to the correct method, an error message lists all the available ones."
   ]
  },
  {
   "cell_type": "code",
   "execution_count": 11,
   "metadata": {},
   "outputs": [],
   "source": [
    "# Load Radon dataset. Hint look for the load_arviz_data\n",
    "radon_data = az.load_arviz_data(dataset=\"radon\")"
   ]
  },
  {
   "cell_type": "markdown",
   "metadata": {},
   "source": [
    "#### Step 2: List all the groups\n",
    "See what analysis your colleague has already run by checking the groups present in the InferenceData object"
   ]
  },
  {
   "cell_type": "code",
   "execution_count": 12,
   "metadata": {},
   "outputs": [
    {
     "data": {
      "text/plain": [
       "Inference data with groups:\n",
       "\t> posterior\n",
       "\t> sample_stats\n",
       "\t> posterior_predictive\n",
       "\t> prior\n",
       "\t> observed_data"
      ]
     },
     "execution_count": 12,
     "metadata": {},
     "output_type": "execute_result"
    }
   ],
   "source": [
    "# Inspect groups here\n",
    "radon_data"
   ]
  },
  {
   "cell_type": "markdown",
   "metadata": {},
   "source": [
    "#### Step 3: Count the number of counties included in radon study\n",
    "How many counties were included in the observed_data?\n",
    "Hint: xarray has a `.to_dataframe()` method"
   ]
  },
  {
   "cell_type": "code",
   "execution_count": 13,
   "metadata": {},
   "outputs": [
    {
     "data": {
      "text/plain": [
       "pandas.core.frame.DataFrame"
      ]
     },
     "execution_count": 13,
     "metadata": {},
     "output_type": "execute_result"
    }
   ],
   "source": [
    "type(radon_data.observed_data.to_dataframe())"
   ]
  },
  {
   "cell_type": "code",
   "execution_count": 14,
   "metadata": {},
   "outputs": [
    {
     "data": {
      "text/html": [
       "<div>\n",
       "<style scoped>\n",
       "    .dataframe tbody tr th:only-of-type {\n",
       "        vertical-align: middle;\n",
       "    }\n",
       "\n",
       "    .dataframe tbody tr th {\n",
       "        vertical-align: top;\n",
       "    }\n",
       "\n",
       "    .dataframe thead th {\n",
       "        text-align: right;\n",
       "    }\n",
       "</style>\n",
       "<table border=\"1\" class=\"dataframe\">\n",
       "  <thead>\n",
       "    <tr style=\"text-align: right;\">\n",
       "      <th></th>\n",
       "      <th>y_like</th>\n",
       "    </tr>\n",
       "    <tr>\n",
       "      <th>observed_county</th>\n",
       "      <th></th>\n",
       "    </tr>\n",
       "  </thead>\n",
       "  <tbody>\n",
       "    <tr>\n",
       "      <th>AITKIN</th>\n",
       "      <td>0.832909</td>\n",
       "    </tr>\n",
       "    <tr>\n",
       "      <th>AITKIN</th>\n",
       "      <td>0.832909</td>\n",
       "    </tr>\n",
       "    <tr>\n",
       "      <th>AITKIN</th>\n",
       "      <td>1.098612</td>\n",
       "    </tr>\n",
       "    <tr>\n",
       "      <th>AITKIN</th>\n",
       "      <td>0.095310</td>\n",
       "    </tr>\n",
       "    <tr>\n",
       "      <th>ANOKA</th>\n",
       "      <td>1.163151</td>\n",
       "    </tr>\n",
       "    <tr>\n",
       "      <th>ANOKA</th>\n",
       "      <td>0.955511</td>\n",
       "    </tr>\n",
       "    <tr>\n",
       "      <th>ANOKA</th>\n",
       "      <td>0.470004</td>\n",
       "    </tr>\n",
       "    <tr>\n",
       "      <th>ANOKA</th>\n",
       "      <td>0.095310</td>\n",
       "    </tr>\n",
       "    <tr>\n",
       "      <th>ANOKA</th>\n",
       "      <td>-0.223144</td>\n",
       "    </tr>\n",
       "    <tr>\n",
       "      <th>ANOKA</th>\n",
       "      <td>0.262364</td>\n",
       "    </tr>\n",
       "  </tbody>\n",
       "</table>\n",
       "</div>"
      ],
      "text/plain": [
       "                   y_like\n",
       "observed_county          \n",
       "AITKIN           0.832909\n",
       "AITKIN           0.832909\n",
       "AITKIN           1.098612\n",
       "AITKIN           0.095310\n",
       "ANOKA            1.163151\n",
       "ANOKA            0.955511\n",
       "ANOKA            0.470004\n",
       "ANOKA            0.095310\n",
       "ANOKA           -0.223144\n",
       "ANOKA            0.262364"
      ]
     },
     "execution_count": 14,
     "metadata": {},
     "output_type": "execute_result"
    }
   ],
   "source": [
    "# Use xarray and pandas index to determine number of counties\n",
    "radon_data.observed_data.to_dataframe().head(10)"
   ]
  },
  {
   "cell_type": "code",
   "execution_count": 15,
   "metadata": {},
   "outputs": [
    {
     "data": {
      "text/plain": [
       "Index(['AITKIN', 'ANOKA', 'BECKER', 'BELTRAMI', 'BENTON', 'BIG STONE',\n",
       "       'BLUE EARTH', 'BROWN', 'CARLTON', 'CARVER'],\n",
       "      dtype='object', name='observed_county')"
      ]
     },
     "execution_count": 15,
     "metadata": {},
     "output_type": "execute_result"
    }
   ],
   "source": [
    "radon_data.observed_data.to_dataframe().index.unique()[:10]"
   ]
  },
  {
   "cell_type": "code",
   "execution_count": 16,
   "metadata": {},
   "outputs": [
    {
     "data": {
      "text/plain": [
       "(85,)"
      ]
     },
     "execution_count": 16,
     "metadata": {},
     "output_type": "execute_result"
    }
   ],
   "source": [
    "radon_data.observed_data.to_dataframe().index.unique().shape"
   ]
  },
  {
   "cell_type": "markdown",
   "metadata": {},
   "source": [
    "#### How many variables are in Bayesian model?\n",
    "Inspect the posterior xarray dataset and get a list of data variables in xarray."
   ]
  },
  {
   "cell_type": "code",
   "execution_count": 17,
   "metadata": {},
   "outputs": [
    {
     "data": {
      "text/plain": [
       "<xarray.Dataset>\n",
       "Dimensions:          (chain: 4, county: 85, draw: 500, gamma_dim_0: 3, observed_county: 919)\n",
       "Coordinates:\n",
       "  * chain            (chain) int64 0 1 2 3\n",
       "  * draw             (draw) int64 0 1 2 3 4 5 6 ... 493 494 495 496 497 498 499\n",
       "  * gamma_dim_0      (gamma_dim_0) int64 0 1 2\n",
       "  * county           (county) object 'AITKIN' 'ANOKA' ... 'YELLOW MEDICINE'\n",
       "  * observed_county  (observed_county) object 'AITKIN' ... 'YELLOW MEDICINE'\n",
       "Data variables:\n",
       "    gamma            (chain, draw, gamma_dim_0) float64 ...\n",
       "    eps_a            (chain, draw, county) float64 ...\n",
       "    b                (chain, draw) float64 ...\n",
       "    sigma_a          (chain, draw) float64 ...\n",
       "    mu_a             (chain, draw, observed_county) float64 ...\n",
       "    a                (chain, draw, observed_county) float64 ...\n",
       "    sigma_y          (chain, draw) float64 ...\n",
       "Attributes:\n",
       "    created_at:                 2018-10-05T15:29:14.514378\n",
       "    inference_library:          pymc3\n",
       "    inference_library_version:  3.5"
      ]
     },
     "execution_count": 17,
     "metadata": {},
     "output_type": "execute_result"
    }
   ],
   "source": [
    "# Use xarray to see how many data variables exist\n",
    "radon_data.posterior"
   ]
  },
  {
   "cell_type": "markdown",
   "metadata": {},
   "source": [
    "#### Step 4: Select the first 10 values of chain 2 for sigma_y in the posterior\n",
    "Using the `.sel` method get the first ten values "
   ]
  },
  {
   "cell_type": "code",
   "execution_count": 18,
   "metadata": {},
   "outputs": [
    {
     "data": {
      "text/plain": [
       "<xarray.DataArray 'sigma_y' (chain: 1, draw: 11)>\n",
       "array([[0.748223, 0.748223, 0.738897, 0.742252, 0.749223, 0.743694, 0.760952,\n",
       "        0.760952, 0.760952, 0.760952, 0.711894]])\n",
       "Coordinates:\n",
       "  * chain    (chain) int64 2\n",
       "  * draw     (draw) int64 0 1 2 3 4 5 6 7 8 9 10"
      ]
     },
     "execution_count": 18,
     "metadata": {},
     "output_type": "execute_result"
    }
   ],
   "source": [
    "# Get First ten values\n",
    "radon_data.posterior.sel(chain=[2], draw=slice(0,10))[\"sigma_y\"]"
   ]
  }
 ],
 "metadata": {
  "kernelspec": {
   "display_name": "Python 3",
   "language": "python",
   "name": "python3"
  },
  "language_info": {
   "codemirror_mode": {
    "name": "ipython",
    "version": 3
   },
   "file_extension": ".py",
   "mimetype": "text/x-python",
   "name": "python",
   "nbconvert_exporter": "python",
   "pygments_lexer": "ipython3",
   "version": "3.7.4"
  }
 },
 "nbformat": 4,
 "nbformat_minor": 2
}
