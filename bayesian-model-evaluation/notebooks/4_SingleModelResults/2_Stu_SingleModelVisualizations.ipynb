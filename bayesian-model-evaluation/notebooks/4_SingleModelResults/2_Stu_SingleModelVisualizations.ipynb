{
 "cells": [
  {
   "cell_type": "markdown",
   "metadata": {},
   "source": [
    "# Section 4.2 Single Model Results Evaluation"
   ]
  },
  {
   "cell_type": "code",
   "execution_count": null,
   "metadata": {},
   "outputs": [],
   "source": [
    "import os\n",
    "import arviz as az\n",
    "import numpy as np\n",
    "import pandas as pd\n",
    "import matplotlib.pyplot as plt\n",
    "\n",
    "# Change working directory\n",
    "if os.path.split(os.getcwd())[-1] != \"notebooks\":\n",
    "    os.chdir(os.path.join(\"..\"))\n",
    "\n",
    "np.random.seed(0)"
   ]
  },
  {
   "cell_type": "code",
   "execution_count": null,
   "metadata": {},
   "outputs": [],
   "source": [
    "az.style.use('arviz-white')"
   ]
  },
  {
   "cell_type": "markdown",
   "metadata": {},
   "source": [
    "## Activity: Estimating treatment on plant growth\n",
    "Your friend statistician friend is really into plants. As a side hobby she decided to test three fertilizers, BudgetFertilizer, GreenPower, and RootsGalore.\n",
    "\n",
    "\n",
    "![Plants](../../img/Plants.jpg)  \n",
    "\n",
    "Her methodology was as follows\n",
    "\n",
    "1. Wait until plants were 10 inches tall\n",
    "2. Treat with one of the three fertilizers\n",
    "3. Measure the height of the plant each day until day 10\n",
    "\n",
    "She was also nice enough to write down the mathematical model for you. Recall that we add 10 to $\\mu$ because she waited until the plant was 10 inches high before we start out experiment. Because of this we do not need to estimate the intercept, it's always 10 inches on Day 0. \n",
    "\n",
    "$$ \n",
    "\\beta \\sim \\mathcal{N}(0,1) \\\\\n",
    "\\epsilon \\sim \\operatorname{HalfCauchy}(1) \\\\\n",
    "\\mu = \\beta*x + 10 \\\\\n",
    "height \\sim \\mathcal{N}(\\mu, \\epsilon)\n",
    "$$\n",
    "\n",
    "In this model, x is the days since adding fertilizer (days since treatment), $\\beta$ is the growth rate and $\\epsilon$ is some noise.\n",
    "\n",
    "She was able to perform inference runs, these are contained in the files `GreenPower.nc`, `BudgetFertilizer.nc`, and `RootsGalore.nc`. She's been too busy to interpret the results and asked that you help by answering the following questions. Remember your friend is a statistician, so she'll want to know the highest posterior density.\n",
    "\n",
    "* Which fertilizer helps plants grow the best?\n",
    "* Which fertilizer exhibits the least variability? Which exhibits the most variability?\n",
    "* BudgetFertilizer is the cheapest, which is nice because she's on a grad student stipend. Should she use this fertilizer?\n",
    "\n",
    "Unfortunately she forgot to give you the raw data, but fortunately you just paid attention to Section 4.1 where we learned how to interpret posterior distributions using`az.plot_posterior`, `az.plot_forest`, `az.summary`.\n",
    "\n",
    "Can you help your friend out?"
   ]
  },
  {
   "cell_type": "markdown",
   "metadata": {},
   "source": [
    "### Exercise 1: Plot the Posterior Estimations of all three fertilizers"
   ]
  },
  {
   "cell_type": "markdown",
   "metadata": {},
   "source": [
    "#### Posterior Plots"
   ]
  },
  {
   "cell_type": "code",
   "execution_count": null,
   "metadata": {},
   "outputs": [],
   "source": [
    "greenpower = az.from_netcdf(os.path.join(\"inference_data\", \"GreenPower.nc\"))\n",
    "# Plot Posterior"
   ]
  },
  {
   "cell_type": "code",
   "execution_count": null,
   "metadata": {},
   "outputs": [],
   "source": [
    "budgetfertilizer = az.from_netcdf(os.path.join(\"inference_data\", \"BudgetFertilizer.nc\"))\n",
    "# Plot Posterior"
   ]
  },
  {
   "cell_type": "code",
   "execution_count": null,
   "metadata": {},
   "outputs": [],
   "source": [
    "rootsgalore = az.from_netcdf(os.path.join(\"inference_data\", \"RootsGalore.nc\"))\n",
    "# Plot Posterior"
   ]
  },
  {
   "cell_type": "markdown",
   "metadata": {},
   "source": [
    "#### Forest Plots\n",
    "**Hint:** Multiple Inference Runs can be plotted in the same forest plot. Take a look at the `model_names` argument"
   ]
  },
  {
   "cell_type": "code",
   "execution_count": null,
   "metadata": {},
   "outputs": [],
   "source": [
    "# Plot Forest\n"
   ]
  },
  {
   "cell_type": "markdown",
   "metadata": {},
   "source": [
    "#### Summary Tables\n",
    "We can quickly compare numerically by using `az.summary`."
   ]
  },
  {
   "cell_type": "code",
   "execution_count": null,
   "metadata": {},
   "outputs": [],
   "source": [
    "# Create Summary Tables, one for each fertilizer\n"
   ]
  },
  {
   "cell_type": "markdown",
   "metadata": {},
   "source": [
    "Just like the plots above, GreenPower is the best fertilizer for growth, RootsGalore is the most consistent, and BudgetFertilizer is not a good fertilizer as it seems reduce plant height over time."
   ]
  },
  {
   "cell_type": "markdown",
   "metadata": {},
   "source": [
    "### Exercise 2: Give recommendations to your friend\n",
    "* **Which fertilizer helps plants grow the best?**\n",
    "Hint: The estimate of the slope $\\beta$ tells us which fertilizer is the best, as it represents day over day growth rate.\n",
    "\n",
    "* **Which fertilizer is the most consistent? Which is the least consistent?**\n",
    "Hint: The estimated distribution $\\epsilon$ indicates the fertilizer variability. \n",
    "\n",
    "* **BudgetFertilizer is the cheapest, which is nice because she's on a grad student stipend and spent all her money on planet observations. Should she use this fertilizer?**\n"
   ]
  }
 ],
 "metadata": {
  "kernelspec": {
   "display_name": "Python 3",
   "language": "python",
   "name": "python3"
  },
  "language_info": {
   "codemirror_mode": {
    "name": "ipython",
    "version": 3
   },
   "file_extension": ".py",
   "mimetype": "text/x-python",
   "name": "python",
   "nbconvert_exporter": "python",
   "pygments_lexer": "ipython3",
   "version": "3.6.8"
  }
 },
 "nbformat": 4,
 "nbformat_minor": 2
}
